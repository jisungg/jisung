{
 "cells": [
  {
   "cell_type": "markdown",
   "id": "b245c99e",
   "metadata": {},
   "source": [
    "# Midterm Review\n",
    "1. Table Methods\n",
    "2. Functions\n",
    "3. Iteration and Conditionals\n",
    "4. Chance\n",
    "5. Sampling\n",
    "6. Hypothesis Testing\n",
    "7. Data Visualizations"
   ]
  },
  {
   "cell_type": "code",
   "execution_count": 1,
   "id": "07bfee1b",
   "metadata": {},
   "outputs": [],
   "source": [
    "# These lines import the Numpy and Datascience modules after installation.\n",
    "import numpy as np\n",
    "from datascience import *\n",
    "\n",
    "# These lines do some fancy plotting magic.\n",
    "import matplotlib\n",
    "%matplotlib inline\n",
    "import matplotlib.pyplot as plt\n",
    "plt.style.use('fivethirtyeight')\n",
    "import warnings\n",
    "warnings.simplefilter('ignore', FutureWarning)"
   ]
  },
  {
   "cell_type": "markdown",
   "id": "dcd2cf80",
   "metadata": {},
   "source": [
    "## 1.0 Foundational Table Methods\n",
    "Below is an image of table methods:\n",
    "<br />\n",
    "<img src=\"./images/table_methods.png\" width=\"700\" height=\"700\" />"
   ]
  },
  {
   "cell_type": "markdown",
   "id": "13266da1",
   "metadata": {},
   "source": [
    "The table methods/functions above show us the inputs and outputs of each function, which is important in getting what exactly we want. For example, `tbl.column(\"column_name\")` or `tbl.column(column_index)` has an input of either a *string* of a column name or an *int* of a column index. `tbl.column()` returns an *array*. "
   ]
  },
  {
   "cell_type": "code",
   "execution_count": 2,
   "id": "62a5e199",
   "metadata": {},
   "outputs": [
    {
     "data": {
      "text/html": [
       "<table border=\"1\" class=\"dataframe\">\n",
       "    <thead>\n",
       "        <tr>\n",
       "            <th>Name</th> <th>Rating</th> <th># of Seasons</th> <th>Genre</th> <th>Premiere Year</th>\n",
       "        </tr>\n",
       "    </thead>\n",
       "    <tbody>\n",
       "        <tr>\n",
       "            <td>Grey's Anatomy       </td> <td>7.7   </td> <td>12          </td> <td>medical drama  </td> <td>2005         </td>\n",
       "        </tr>\n",
       "        <tr>\n",
       "            <td>Suits                </td> <td>8.7   </td> <td>5           </td> <td>legal drama    </td> <td>2011         </td>\n",
       "        </tr>\n",
       "        <tr>\n",
       "            <td>House of Cards       </td> <td>9     </td> <td>4           </td> <td>political drama</td> <td>2013         </td>\n",
       "        </tr>\n",
       "        <tr>\n",
       "            <td>Scrubs               </td> <td>8.4   </td> <td>8           </td> <td>sitcom         </td> <td>2001         </td>\n",
       "        </tr>\n",
       "        <tr>\n",
       "            <td>Scandal              </td> <td>7.9   </td> <td>5           </td> <td>political drama</td> <td>2012         </td>\n",
       "        </tr>\n",
       "        <tr>\n",
       "            <td>How I Met Your Mother</td> <td>8.4   </td> <td>9           </td> <td>sitcom         </td> <td>2005         </td>\n",
       "        </tr>\n",
       "    </tbody>\n",
       "</table>"
      ],
      "text/plain": [
       "<IPython.core.display.HTML object>"
      ]
     },
     "metadata": {},
     "output_type": "display_data"
    }
   ],
   "source": [
    "tvshows = Table().with_columns(\n",
    "    \"Name\", make_array(\"Grey's Anatomy\", \"Suits\", \"House of Cards\", \"Scrubs\", \"Scandal\", \"How I Met Your Mother\"),\n",
    "    \"Rating\", make_array(7.7, 8.7, 9, 8.4, 7.9, 8.4),\n",
    "    \"# of Seasons\", make_array(12, 5, 4, 8, 5, 9),\n",
    "    \"Genre\", make_array(\"medical drama\", \"legal drama\", \"political drama\", \"sitcom\", \"political drama\", \"sitcom\"),\n",
    "    \"Premiere Year\", make_array(2005, 2011, 2013, 2001, 2012, 2005)\n",
    ")\n",
    "\n",
    "tvshows.show()"
   ]
  },
  {
   "cell_type": "markdown",
   "id": "bbc9afb7",
   "metadata": {},
   "source": [
    "Let's take an example. Alice decides to filter the table `tvshows` table to include shows that have at least an `8.0` rating and at least `6` seasons. The table `tvshows` is shown above.\n",
    "\n",
    "**Q1.0.1** Write an expression that returns a table such that only the rows satisfying both of the above conditions will be included."
   ]
  },
  {
   "cell_type": "code",
   "execution_count": 3,
   "id": "07999174",
   "metadata": {},
   "outputs": [
    {
     "data": {
      "text/html": [
       "<table border=\"1\" class=\"dataframe\">\n",
       "    <thead>\n",
       "        <tr>\n",
       "            <th>Name</th> <th>Rating</th> <th># of Seasons</th> <th>Genre</th> <th>Premiere Year</th>\n",
       "        </tr>\n",
       "    </thead>\n",
       "    <tbody>\n",
       "        <tr>\n",
       "            <td>Scrubs               </td> <td>8.4   </td> <td>8           </td> <td>sitcom</td> <td>2001         </td>\n",
       "        </tr>\n",
       "        <tr>\n",
       "            <td>How I Met Your Mother</td> <td>8.4   </td> <td>9           </td> <td>sitcom</td> <td>2005         </td>\n",
       "        </tr>\n",
       "    </tbody>\n",
       "</table>"
      ],
      "text/plain": [
       "Name                  | Rating | # of Seasons | Genre  | Premiere Year\n",
       "Scrubs                | 8.4    | 8            | sitcom | 2001\n",
       "How I Met Your Mother | 8.4    | 9            | sitcom | 2005"
      ]
     },
     "execution_count": 3,
     "metadata": {},
     "output_type": "execute_result"
    }
   ],
   "source": [
    "# Multiple Expressions\n",
    "filtered_tvshows = tvshows.where(\"Rating\", are.above_or_equal_to(8)) # -> Table\n",
    "filtered_tvshows = filtered_tvshows.where(\"# of Seasons\", are.above_or_equal_to(6)) # -> Table\n",
    "filtered_tvshows\n",
    "\n",
    "# Single Expression\n",
    "tvshows.where(\"Rating\", are.above_or_equal_to(8)).where(\"# of Seasons\", are.above_or_equal_to(6))"
   ]
  },
  {
   "cell_type": "markdown",
   "id": "ef77b91e",
   "metadata": {},
   "source": [
    "**Q1.0.2** Write an expression that will determine how many seasons did the show with the highest rating receive?"
   ]
  },
  {
   "cell_type": "code",
   "execution_count": 4,
   "id": "7f25077e",
   "metadata": {},
   "outputs": [
    {
     "data": {
      "text/plain": [
       "4"
      ]
     },
     "execution_count": 4,
     "metadata": {},
     "output_type": "execute_result"
    }
   ],
   "source": [
    "tvshows.sort(\"Rating\", descending = True).column(\"# of Seasons\").item(0)"
   ]
  },
  {
   "cell_type": "markdown",
   "id": "3ff531b9",
   "metadata": {},
   "source": [
    "### 1.1 `group()` vs. `pivot()`\n",
    "\n",
    "Two of the most confused upon table functions are `tbl.group()` and `tbl.pivot()`.\n",
    "\n",
    "> `tbl.group(column_name, function)`\n",
    "- Creates a row for each unique category in the column specified\n",
    "- Uses the specified function to *collect* values in the other columns\n",
    "- Default function is `count()`\n",
    "- If function is inputted -> column names are changed to \"column_name function_name\" (e.g. \"Price\" -> \"Price max\")\n",
    "\n",
    "> `tbl.pivot(col_names, row_names, values, function)`\n",
    "- Allows us to compare values that overlap amongst unique categories in two seperate columns\n",
    "\n",
    "Use Cases for `group()` and `pivot()`:\n",
    "1. `tbl.group()`\n",
    "    - When we need to *count or summarize values* for each unique category in one column.\n",
    "    - We're *aggregating* (summing, averaging, max/min, etc.) a numerical column based on a categorical column.\n",
    "    - We're *reducing the number of rows* to one row per unique category.\n",
    "\n",
    "For example, you are given a table `grades` with columns `\"Course\"`, `\"Student\"`, and `\"Score\"`. Compute and return the average score for each course.\n",
    "\n",
    "```python\n",
    "grades.group(\"Course\", np.mean).column(\"Score mean\")\n",
    "```\n",
    "**Why?** We want to aggregate scores within each course, so we group by `\"Course\"` and take the mean of the `\"Score\"` column.\n",
    "\n",
    "If the problem asks for “average,” “count,” or “max/min” for a category -> use `group()`.\n",
    "\n",
    "2. `tbl.pivot()`\n",
    "    - When we need to compare values across two categorical columns.\n",
    "    - We need to reshape the table so that one column’s unique values become separate columns.\n",
    "    - We need to make a cross-tabulation.\n",
    "\n",
    "For example, you have a table `sales` with columns `\"Month\"`, `\"Product\"`, and `\"Revenue\"`. Create a table where each row represents a month, and each product has its own column showing total revenue.\n",
    "\n",
    "```python\n",
    "sales.pivot(\"Product\", \"Month\", \"Revenue\", sum)\n",
    "```\n",
    "**Why?** We want to structure the table so that each row corresponds to a month and each product becomes a separate column showing its revenue.\n",
    "\n",
    "If the problem asks to “compare” across two categorical columns → use `pivot()`.\n",
    "\n",
    "| Scenario                                                 | Use `group()` | Use `pivot()` |\n",
    "|----------------------------------------------------------|--------------|--------------|\n",
    "| Summarizing a numerical column based on a single categorical column | ✅ | ❌ |\n",
    "| Counting the number of occurrences per category          | ✅ | ❌ |\n",
    "| Comparing values across two categorical columns         | ❌ | ✅ |\n",
    "| Reshaping data so that unique values in one column become separate columns | ❌ | ✅ |\n"
   ]
  },
  {
   "cell_type": "markdown",
   "id": "3e06ce30",
   "metadata": {},
   "source": [
    "### 1.2 `join()`\n",
    "\n",
    "Another function that may be confusing is `tbl.join()`.\n",
    "\n",
    "> tblA.join(colA, tblB, colB)\n",
    "- Joins `tblA` and `tblB`\n",
    "- `colA` and `colB` should share values\n",
    "- Returns a new table with the appended shared column from `tblB`\n",
    "\n",
    "Let's take an example with the `chocolates` table and the `nutrition` table below. We want to join the two tables based on the `\"Color\"` column in the `chocolates` table and the `\"Type\"` column in the `nutrition` table."
   ]
  },
  {
   "cell_type": "code",
   "execution_count": 5,
   "id": "f47bdca2",
   "metadata": {},
   "outputs": [
    {
     "data": {
      "text/html": [
       "<table border=\"1\" class=\"dataframe\">\n",
       "    <thead>\n",
       "        <tr>\n",
       "            <th>Color</th> <th>Shape</th> <th>Amount</th> <th>Price ($)</th>\n",
       "        </tr>\n",
       "    </thead>\n",
       "    <tbody>\n",
       "        <tr>\n",
       "            <td>Dark </td> <td>Round      </td> <td>4     </td> <td>1.3      </td>\n",
       "        </tr>\n",
       "        <tr>\n",
       "            <td>Milk </td> <td>Rectangular</td> <td>6     </td> <td>1.2      </td>\n",
       "        </tr>\n",
       "        <tr>\n",
       "            <td>White</td> <td>Rectangular</td> <td>12    </td> <td>2        </td>\n",
       "        </tr>\n",
       "        <tr>\n",
       "            <td>Dark </td> <td>Round      </td> <td>7     </td> <td>1.75     </td>\n",
       "        </tr>\n",
       "        <tr>\n",
       "            <td>Milk </td> <td>Rectangular</td> <td>9     </td> <td>1.4      </td>\n",
       "        </tr>\n",
       "        <tr>\n",
       "            <td>Milk </td> <td>Round      </td> <td>2     </td> <td>1        </td>\n",
       "        </tr>\n",
       "    </tbody>\n",
       "</table>"
      ],
      "text/plain": [
       "<IPython.core.display.HTML object>"
      ]
     },
     "metadata": {},
     "output_type": "display_data"
    }
   ],
   "source": [
    "chocolates = Table().with_columns(\n",
    "    \"Color\", make_array(\"Dark\", \"Milk\", \"White\", \"Dark\", \"Milk\", \"Milk\"),\n",
    "    \"Shape\", make_array(\"Round\", \"Rectangular\", \"Rectangular\", \"Round\", \"Rectangular\", \"Round\"),\n",
    "    \"Amount\", make_array(4, 6, 12, 7, 9, 2),\n",
    "    \"Price ($)\", make_array(1.30, 1.20, 2.00, 1.75, 1.40, 1.00)\n",
    ")\n",
    "\n",
    "chocolates.show()"
   ]
  },
  {
   "cell_type": "code",
   "execution_count": 6,
   "id": "5a4e4124",
   "metadata": {},
   "outputs": [
    {
     "data": {
      "text/html": [
       "<table border=\"1\" class=\"dataframe\">\n",
       "    <thead>\n",
       "        <tr>\n",
       "            <th>Type</th> <th>Calories</th>\n",
       "        </tr>\n",
       "    </thead>\n",
       "    <tbody>\n",
       "        <tr>\n",
       "            <td>Dark </td> <td>120     </td>\n",
       "        </tr>\n",
       "        <tr>\n",
       "            <td>Milk </td> <td>130     </td>\n",
       "        </tr>\n",
       "        <tr>\n",
       "            <td>White</td> <td>115     </td>\n",
       "        </tr>\n",
       "        <tr>\n",
       "            <td>Ruby </td> <td>120     </td>\n",
       "        </tr>\n",
       "    </tbody>\n",
       "</table>"
      ],
      "text/plain": [
       "<IPython.core.display.HTML object>"
      ]
     },
     "metadata": {},
     "output_type": "display_data"
    }
   ],
   "source": [
    "nutrition = Table().with_columns(\n",
    "    \"Type\", make_array(\"Dark\", \"Milk\", \"White\", \"Ruby\"),\n",
    "    \"Calories\", make_array(120, 130, 115, 120)\n",
    ")\n",
    "\n",
    "nutrition.show()"
   ]
  },
  {
   "cell_type": "code",
   "execution_count": 7,
   "id": "8d5bde8e",
   "metadata": {},
   "outputs": [
    {
     "data": {
      "text/html": [
       "<table border=\"1\" class=\"dataframe\">\n",
       "    <thead>\n",
       "        <tr>\n",
       "            <th>Color</th> <th>Shape</th> <th>Amount</th> <th>Price ($)</th> <th>Calories</th>\n",
       "        </tr>\n",
       "    </thead>\n",
       "    <tbody>\n",
       "        <tr>\n",
       "            <td>Dark </td> <td>Round      </td> <td>4     </td> <td>1.3      </td> <td>120     </td>\n",
       "        </tr>\n",
       "        <tr>\n",
       "            <td>Dark </td> <td>Round      </td> <td>7     </td> <td>1.75     </td> <td>120     </td>\n",
       "        </tr>\n",
       "        <tr>\n",
       "            <td>Milk </td> <td>Rectangular</td> <td>6     </td> <td>1.2      </td> <td>130     </td>\n",
       "        </tr>\n",
       "        <tr>\n",
       "            <td>Milk </td> <td>Rectangular</td> <td>9     </td> <td>1.4      </td> <td>130     </td>\n",
       "        </tr>\n",
       "        <tr>\n",
       "            <td>Milk </td> <td>Round      </td> <td>2     </td> <td>1        </td> <td>130     </td>\n",
       "        </tr>\n",
       "        <tr>\n",
       "            <td>White</td> <td>Rectangular</td> <td>12    </td> <td>2        </td> <td>115     </td>\n",
       "        </tr>\n",
       "    </tbody>\n",
       "</table>"
      ],
      "text/plain": [
       "Color | Shape       | Amount | Price ($) | Calories\n",
       "Dark  | Round       | 4      | 1.3       | 120\n",
       "Dark  | Round       | 7      | 1.75      | 120\n",
       "Milk  | Rectangular | 6      | 1.2       | 130\n",
       "Milk  | Rectangular | 9      | 1.4       | 130\n",
       "Milk  | Round       | 2      | 1         | 130\n",
       "White | Rectangular | 12     | 2         | 115"
      ]
     },
     "execution_count": 7,
     "metadata": {},
     "output_type": "execute_result"
    }
   ],
   "source": [
    "chocolates.join(\"Color\", nutrition, \"Type\")"
   ]
  },
  {
   "cell_type": "markdown",
   "id": "ecf47a4a",
   "metadata": {},
   "source": [
    "As shown above, `chocolates.join(\"Color\", nutrition, \"Type\")` returns a `Table`, with the same columns in the original `chocolate` table, with the added `\"Calories\"` column from the nutrition table. (e.g. `\"Dark\"` -> 120, so every `\"Dark\"` row in the new table has the value `120` in the new `\"Calories\"` column).\n",
    "\n",
    "What happens when we call the reverse, `nutrition.join(\"Type\", chocolates, \"Color\")`?"
   ]
  },
  {
   "cell_type": "code",
   "execution_count": 8,
   "id": "d5f604a6",
   "metadata": {},
   "outputs": [
    {
     "data": {
      "text/html": [
       "<table border=\"1\" class=\"dataframe\">\n",
       "    <thead>\n",
       "        <tr>\n",
       "            <th>Type</th> <th>Calories</th> <th>Shape</th> <th>Amount</th> <th>Price ($)</th>\n",
       "        </tr>\n",
       "    </thead>\n",
       "    <tbody>\n",
       "        <tr>\n",
       "            <td>Dark </td> <td>120     </td> <td>Round      </td> <td>4     </td> <td>1.3      </td>\n",
       "        </tr>\n",
       "        <tr>\n",
       "            <td>Dark </td> <td>120     </td> <td>Round      </td> <td>7     </td> <td>1.75     </td>\n",
       "        </tr>\n",
       "        <tr>\n",
       "            <td>Milk </td> <td>130     </td> <td>Rectangular</td> <td>6     </td> <td>1.2      </td>\n",
       "        </tr>\n",
       "        <tr>\n",
       "            <td>Milk </td> <td>130     </td> <td>Rectangular</td> <td>9     </td> <td>1.4      </td>\n",
       "        </tr>\n",
       "        <tr>\n",
       "            <td>Milk </td> <td>130     </td> <td>Round      </td> <td>2     </td> <td>1        </td>\n",
       "        </tr>\n",
       "        <tr>\n",
       "            <td>White</td> <td>115     </td> <td>Rectangular</td> <td>12    </td> <td>2        </td>\n",
       "        </tr>\n",
       "    </tbody>\n",
       "</table>"
      ],
      "text/plain": [
       "Type  | Calories | Shape       | Amount | Price ($)\n",
       "Dark  | 120      | Round       | 4      | 1.3\n",
       "Dark  | 120      | Round       | 7      | 1.75\n",
       "Milk  | 130      | Rectangular | 6      | 1.2\n",
       "Milk  | 130      | Rectangular | 9      | 1.4\n",
       "Milk  | 130      | Round       | 2      | 1\n",
       "White | 115      | Rectangular | 12     | 2"
      ]
     },
     "execution_count": 8,
     "metadata": {},
     "output_type": "execute_result"
    }
   ],
   "source": [
    "nutrition.join(\"Type\", chocolates, \"Color\")"
   ]
  },
  {
   "cell_type": "markdown",
   "id": "70aa24d3",
   "metadata": {},
   "source": [
    "**Q1.2.1** *(FA23 Final Q4)* Barbara and Jeanine were qurantined for a week with 13 other friends due to unforseen circumstances. They are curious to understand what songs each friend listened to during the qurantine period. \n",
    "\n",
    "To evaluate this, they randomly sample song \"plays\" by the 15 people during quarantine and put that into the `spotify` table. Here are the first few rows:"
   ]
  },
  {
   "cell_type": "code",
   "execution_count": 23,
   "id": "b417c911",
   "metadata": {},
   "outputs": [
    {
     "data": {
      "text/html": [
       "<table border=\"1\" class=\"dataframe\">\n",
       "    <thead>\n",
       "        <tr>\n",
       "            <th>Username</th> <th>Artist</th> <th>Song</th> <th>Genre</th> <th>Duration</th>\n",
       "        </tr>\n",
       "    </thead>\n",
       "    <tbody>\n",
       "        <tr>\n",
       "            <td>barbz23  </td> <td>Olivia Rodrigo</td> <td>Vampire           </td> <td>Pop    </td> <td>3.14    </td>\n",
       "        </tr>\n",
       "        <tr>\n",
       "            <td>jea9     </td> <td>The Weeknd    </td> <td>Popular           </td> <td>R&B    </td> <td>2.78    </td>\n",
       "        </tr>\n",
       "        <tr>\n",
       "            <td>ronnieboi</td> <td>Doja Cat      </td> <td>Paint the Town Red</td> <td>Hip-Hop</td> <td>3.05    </td>\n",
       "        </tr>\n",
       "    </tbody>\n",
       "</table>"
      ],
      "text/plain": [
       "<IPython.core.display.HTML object>"
      ]
     },
     "metadata": {},
     "output_type": "display_data"
    },
    {
     "data": {
      "text/plain": [
       "'... (328 rows omitted)'"
      ]
     },
     "execution_count": 23,
     "metadata": {},
     "output_type": "execute_result"
    }
   ],
   "source": [
    "# Disclaimer: In real exam scenarios, a table will not be shown being made or imported. This is just for learning purposes within this environment.\n",
    "spotify = Table().with_columns(\n",
    "    \"Username\", make_array(\"barbz23\", \"jea9\", \"ronnieboi\"),\n",
    "    \"Artist\", make_array(\"Olivia Rodrigo\", \"The Weeknd\", \"Doja Cat\"),\n",
    "    \"Song\", make_array(\"Vampire\", \"Popular\", \"Paint the Town Red\"),\n",
    "    \"Genre\", make_array(\"Pop\", \"R&B\", \"Hip-Hop\"),\n",
    "    \"Duration\", make_array(3.14, 2.78, 3.05)\n",
    ")\n",
    "\n",
    "spotify.show()\n",
    "\"\"\"... (328 rows omitted)\"\"\""
   ]
  },
  {
   "cell_type": "markdown",
   "id": "490dfddd",
   "metadata": {},
   "source": [
    "The table has the following columns:\n",
    "- *Username*: (`string`) the spotify username of the person who played the song\n",
    "- *Artist*: (`string`) the song's artist\n",
    "- *Song*: (`string`) the song's name\n",
    "- *Genre*: (`string`) the song's genre\n",
    "- *Duration*: (`float`) the number of minutes the song was played on that occasion\n",
    "\n",
    "*Note: There is a rwo for each time a song was played, so many rows will be repeated. For example, if Jeanine listened to the song Vampire 3 times, then there will be 3 rows in the table for those \"plays\".*"
   ]
  },
  {
   "cell_type": "markdown",
   "id": "b37cfe57",
   "metadata": {},
   "source": [
    "Write a Python expression that returns a table with more than 3 columns that displays the average play duration for each unqiue combination of artist and song."
   ]
  },
  {
   "cell_type": "code",
   "execution_count": 10,
   "id": "1d0693c8",
   "metadata": {},
   "outputs": [
    {
     "data": {
      "text/html": [
       "<table border=\"1\" class=\"dataframe\">\n",
       "    <thead>\n",
       "        <tr>\n",
       "            <th>Song</th> <th>Doja Cat</th> <th>Olivia Rodrigo</th> <th>The Weeknd</th>\n",
       "        </tr>\n",
       "    </thead>\n",
       "    <tbody>\n",
       "        <tr>\n",
       "            <td>Paint the Town Red</td> <td>3.05    </td> <td>0             </td> <td>0         </td>\n",
       "        </tr>\n",
       "        <tr>\n",
       "            <td>Popular           </td> <td>0       </td> <td>0             </td> <td>2.78      </td>\n",
       "        </tr>\n",
       "        <tr>\n",
       "            <td>Vampire           </td> <td>0       </td> <td>3.14          </td> <td>0         </td>\n",
       "        </tr>\n",
       "    </tbody>\n",
       "</table>"
      ],
      "text/plain": [
       "Song               | Doja Cat | Olivia Rodrigo | The Weeknd\n",
       "Paint the Town Red | 3.05     | 0              | 0\n",
       "Popular            | 0        | 0              | 2.78\n",
       "Vampire            | 0        | 3.14           | 0"
      ]
     },
     "execution_count": 10,
     "metadata": {},
     "output_type": "execute_result"
    }
   ],
   "source": [
    "spotify.pivot(\"Artist\", \"Song\", \"Duration\", np.average)"
   ]
  },
  {
   "cell_type": "code",
   "execution_count": null,
   "id": "d9238ae4",
   "metadata": {},
   "outputs": [],
   "source": []
  },
  {
   "cell_type": "markdown",
   "id": "2c5f92c9",
   "metadata": {},
   "source": [
    "So why *`pivot()`*?\n",
    "\n",
    "As per [Section 1.1](#11-group-vs-pivot), we use `.pivot()` when we **compare** values across *two* categorical columns. Here, we are comparing the columns `\"Artist\"` and `\"Song\"`. It's asking for each combination of artist and songs, we want the average play duration. Therefore, we want the columns to be made up of the original `\"Artist\"` column, the rows to be made up of the original `\"Song\"` column, and the values to be the average of the `\"Duration\"` column. Therefore, we call `pivot()` on the `spotify` table like so: `spotify.pivot(\"Artist\", \"Song\", \"Duration\", np.average)`."
   ]
  },
  {
   "cell_type": "markdown",
   "id": "bdbe49bc",
   "metadata": {},
   "source": [
    "Write a Python expression that returns "
   ]
  },
  {
   "cell_type": "code",
   "execution_count": 15,
   "id": "efe04e68",
   "metadata": {},
   "outputs": [
    {
     "data": {
      "text/html": [
       "<table border=\"1\" class=\"dataframe\">\n",
       "    <thead>\n",
       "        <tr>\n",
       "            <th>Username</th> <th>Artist</th> <th>Song</th> <th>Genre</th> <th>Duration</th>\n",
       "        </tr>\n",
       "    </thead>\n",
       "    <tbody>\n",
       "        <tr>\n",
       "            <td>barbz23  </td> <td>Olivia Rodrigo</td> <td>Vampire           </td> <td>Pop    </td> <td>3.14    </td>\n",
       "        </tr>\n",
       "        <tr>\n",
       "            <td>jea9     </td> <td>The Weeknd    </td> <td>Popular           </td> <td>R&B    </td> <td>2.78    </td>\n",
       "        </tr>\n",
       "        <tr>\n",
       "            <td>ronnieboi</td> <td>Doja Cat      </td> <td>Paint the Town Red</td> <td>Hip-Hop</td> <td>3.05    </td>\n",
       "        </tr>\n",
       "    </tbody>\n",
       "</table>"
      ],
      "text/plain": [
       "Username  | Artist         | Song               | Genre   | Duration\n",
       "barbz23   | Olivia Rodrigo | Vampire            | Pop     | 3.14\n",
       "jea9      | The Weeknd     | Popular            | R&B     | 2.78\n",
       "ronnieboi | Doja Cat       | Paint the Town Red | Hip-Hop | 3.05"
      ]
     },
     "execution_count": 15,
     "metadata": {},
     "output_type": "execute_result"
    }
   ],
   "source": [
    "spotify"
   ]
  },
  {
   "cell_type": "markdown",
   "id": "ec8617bd",
   "metadata": {},
   "source": [
    "Write a Python expression that returns the name of the artist that has the largest number of unique songs in the table."
   ]
  },
  {
   "cell_type": "code",
   "execution_count": null,
   "id": "783e9e16",
   "metadata": {},
   "outputs": [
    {
     "data": {
      "text/plain": [
       "'Doja Cat'"
      ]
     },
     "execution_count": 16,
     "metadata": {},
     "output_type": "execute_result"
    }
   ],
   "source": [
    "spotify.group(make_array(\"Artist\", \"Song\")).group(\"Artist\").sort(\"count\", descending = True).column(0).item(0)"
   ]
  },
  {
   "cell_type": "markdown",
   "id": "d049408d",
   "metadata": {},
   "source": [
    "This is a complicated question. We use `.group()` twice. Why is that? When we go through it step by step:\n",
    "\n",
    "1. `spotify.group(make_array(\"Artist\", \"Song\"))`\n",
    "\n",
    "This gives the table:\n",
    "| Artist | Song | count |\n",
    "| ------ | ---- | ----- |\n",
    "| Doja Cat | Paint the Town Red | 1 |\n",
    "| Olivia Rodrigo | Vampire | 1 |\n",
    "| The Weeknd | Popular | 1 |\n",
    "\n",
    "**Why?** When `.group()` takes in multiple columns (in the form of an array), it gets the groups by unique values by both columns. If the original table had another Doja Cat song (let's say Say So), the table would look like:\n",
    "| Artist | Song | count |\n",
    "| ------ | ---- | ----- |\n",
    "| Doja Cat | Paint the Town Red | 1 |\n",
    "| Doja Cat | Say So | 1 |\n",
    "| Olivia Rodrigo | Vampire | 1 |\n",
    "| The Weeknd | Popular | 1 |\n",
    "\n",
    "It essentially is a more specific \"grouping\": grouping by `\"Artist\"` and `\"Song\"`. We don't include the function, because it's not going to be used in the future, we are not looking for the `count` of each unique song per artist. \n",
    "\n",
    "2. `spotify.group(make_array(\"Artist\", \"Song\")).group(\"Artist\")`\n",
    "\n",
    "Now that we have have grouped by every unique song per unqiue artist, we want to get the artist that has the largest number of unique songs, which we can do by using another `.group()`. Why not `.pivot()`? Because we are grouping by *ONE categorical column*.\n",
    "\n",
    "This gives the table:\n",
    "| Artist | count |\n",
    "| ------ | ---- |\n",
    "| Doja Cat | 1 |\n",
    "| Olivia Rodrigo | 1 |\n",
    "| The Weeknd | 1 |\n",
    "\n",
    "Doja Cat has 1 unique song, Olivia Rodrigo has 1 unique song, The Weeknd has 1 unique song. *Obviously, for the point of the question, the table has many more rows, this is just an example using the first few rows given.* We had to group by `\"Artst\"` and `\"Song\"` to get to this point, since we first needed the unique songs an artist had. If we didn't need the \"`Artist`\", we very much could've done `spotify.group(\"Song\")` to get the count of unique songs, but the question asks for the artist name that had the number of unique songs.\n",
    "\n",
    "3. `spotify.group(make_array(\"Artist\", \"Song\")).group(\"Artist\").sort(\"count\", descending = True)`\n",
    "\n",
    "We sort by the column `\"count\"`, and use `descending = True` as we want the column to be sorted from greatest -> least.\n",
    "\n",
    "If the table looked something like:\n",
    "\n",
    "| Artist | count |\n",
    "| ------ | ---- |\n",
    "| Doja Cat | 5 |\n",
    "| Olivia Rodrigo | 2 |\n",
    "| The Weeknd | 4 |\n",
    "\n",
    "The resulting table after running the `.sort()` would be:\n",
    "\n",
    "| Artist | count |\n",
    "| ------ | ---- |\n",
    "| Doja Cat | 5 |\n",
    "| The Weeknd | 4 |\n",
    "| Olivia Rodrigo | 2 |\n",
    "\n",
    "4. `spotify.group(make_array(\"Artist\", \"Song\")).group(\"Artist\").sort(\"count\", descending = True).column(0).item(0)`\n",
    "\n",
    "We then get the column we are interested in after the sort: `\"Artist\"`. Since the rows are already sorted, we just need the first value of the `\"Artist\"` column to get the artist that has the largest amount of unique songs, hence `column(0).item(0)` or `column(\"Artist\").item(0)`."
   ]
  },
  {
   "cell_type": "markdown",
   "id": "dd118609",
   "metadata": {},
   "source": [
    "**Q1.2.2** *(FA23 Final Q4)* While looking at a table of song plays is helpful, Barbara notices that the table doesn't contain the name of people who played the songs. She creates a seperate table called `accounts` that contains their friends' Spotify accounts. The first few rows are shown here:"
   ]
  },
  {
   "cell_type": "code",
   "execution_count": 27,
   "id": "338af6f5",
   "metadata": {},
   "outputs": [
    {
     "data": {
      "text/html": [
       "<table border=\"1\" class=\"dataframe\">\n",
       "    <thead>\n",
       "        <tr>\n",
       "            <th>Identifier</th> <th>DisplayName</th>\n",
       "        </tr>\n",
       "    </thead>\n",
       "    <tbody>\n",
       "        <tr>\n",
       "            <td>jmarsdenofficial</td> <td>James Marsden</td>\n",
       "        </tr>\n",
       "        <tr>\n",
       "            <td>margarita23     </td> <td>Inez De Leon </td>\n",
       "        </tr>\n",
       "        <tr>\n",
       "            <td>ken_the_og      </td> <td>Ken Hyun     </td>\n",
       "        </tr>\n",
       "    </tbody>\n",
       "</table>"
      ],
      "text/plain": [
       "<IPython.core.display.HTML object>"
      ]
     },
     "metadata": {},
     "output_type": "display_data"
    },
    {
     "data": {
      "text/plain": [
       "'... (12 rows omitted)'"
      ]
     },
     "execution_count": 27,
     "metadata": {},
     "output_type": "execute_result"
    }
   ],
   "source": [
    "accounts = Table().with_columns(\n",
    "    \"Identifier\", make_array(\"jmarsdenofficial\", \"margarita23\", \"ken_the_og\"),\n",
    "    \"DisplayName\", make_array(\"James Marsden\", \"Inez De Leon\", \"Ken Hyun\")\n",
    ")\n",
    "\n",
    "accounts.show()\n",
    "\"\"\"... (12 rows omitted)\"\"\""
   ]
  },
  {
   "cell_type": "markdown",
   "id": "db286661",
   "metadata": {},
   "source": [
    "The table has the following columns:\n",
    "- *Identifier*: (string) the account's ID in Spotify's database\n",
    "- *DisplayName*: (string) the account's display name (first and last name)\n",
    "\n",
    "Barbara notices that one of the friends, `'Todd Gregory'`, tends to skip Pop songs after listening to them for just a few seconds. She writes the following partially completed code, which assigns `result` to an array containing the average play duration for every Pop song that Todd played.\n",
    "\n",
    "```python\n",
    "combined = ____(a)____\n",
    "todd_pop_songs = ____(b)____\n",
    "result = todd_pop_songs.____(c)____\n",
    "```\n",
    "\n",
    "Write a Python expression that fills in (a), (b), and (c)."
   ]
  },
  {
   "cell_type": "code",
   "execution_count": null,
   "id": "67610273",
   "metadata": {},
   "outputs": [
    {
     "data": {
      "text/plain": [
       "\"Results in an error in our environment since we don't have the original tables with the omitted rows.\""
      ]
     },
     "execution_count": 29,
     "metadata": {},
     "output_type": "execute_result"
    }
   ],
   "source": [
    "combined = spotify.join(\"Username\", accounts, \"Identifier\")\n",
    "todd_pop_songs = spotify.where(\"DisplayName\", \"Todd Gregory\").where(\"Genre\", \"Pop\")\n",
    "result = todd_pop_songs.select(\"Song\", \"Duration\").group(\"Song\", np.average).column(1)\n",
    "\n",
    "\"\"\"Results in an error in our environment since we don't have the original tables with the omitted rows.\"\"\""
   ]
  },
  {
   "cell_type": "markdown",
   "id": "d8f85ec8",
   "metadata": {},
   "source": [
    "(a) = `spotify.join(\"Username\", accounts, \"Identifier\")`\n",
    "\n",
    "(b) = `spotify.where(\"DisplayName\", \"Todd Gregory\").where(\"Genre\", \"Pop\")`\n",
    "\n",
    "(c) = `todd_pop_songs.select(\"Song\", \"Duration\").group(\"Song\", np.average).column(1)`\n",
    "\n",
    "Our final goal is that we want the average play duration for every *unique* Pop song that Todd played. Just from looking at our goal, we need to somehow get the original `spotify` table and this `accounts` table together so we can see the play duration for Todd (our minds should automaticlly go to `.join()`). Additionally, we know that we need to use either `.group()` or `.pivot()`, as we are filtering by uniqueness. \n",
    "\n",
    "We can rule out the possibility of `.pivot()` since we are not going to be comparing two categorical columns. So, we know we need to use `.join()` and `.group()`. The variable names give us a clear direction of where to go.\n",
    "\n",
    "1. `combined = ____(a)____`\n",
    "\n",
    "`combined` is most likely a table where we use `.join()` on the `spotify` table and the `accounts` table. We know that the shared columns between the two that have similar/identical values is the column `\"Identifier\"` in `accounts` and the column `\"Username\"` in `spotify`. The question is now do we use `spotify.join()` or `accounts.join()`. It doesn't really matter for this specific case, but for clarity purposes and for the reason that `spotify` has much more data, we want to use `spotify.join()`. As per [Section 1.2](#12-join), we use `.join()` -> `spotify.join(\"Username\", accounts, \"Identifier\")`.\n",
    "\n",
    "The resulting table would have this structure:\n",
    "| Username | Artist | Song | Genre | Duration | DisplayName |\n",
    "| -------- | ------ | ---- | ----- | -------- | ----------- |\n",
    "| ...      | ...    | ...  | ...   | ...      | ...         |\n",
    "\n",
    "\n",
    "2. `todd_pop_songs = ____(b)____`\n",
    "\n",
    "Now that we have our `combined` table, we want to filter out the table for specifically `\"Todd Gregory\"` and his listening genre of `\"Pop\"`, which are contained in the column `\"DisplayName\"` and in `\"Genre\"`. For filtering our rows, we use `.where()`. We want to filter out (in no paritcular order) the DisplayName `\"Todd Gregory\"` and the Genre `\"Pop\"`. So we use `combined.where(\"DisplayName\", \"Todd Gregory\").where(\"Genre\", \"Pop\")`. \n",
    "\n",
    "The resulting table would have this structure:\n",
    "| Username | Artist | Song | Genre | Duration | DisplayName |\n",
    "| -------- | ------ | ---- | ----- | -------- | ----------- |\n",
    "| ...      | ...    | ...  | ...   | ...      | Todd Gregory         |\n",
    "\n",
    "*Disclaimer: `combined.where(\"DisplayName\", \"Todd Gregory\").where(\"Genre\", \"Pop\")` can also be written interchangeably with `combined.where(\"Genre\", \"Pop\").where(\"DisplayName\", \"Todd Gregory\"). It's essentially the same thing.*\n",
    "\n",
    "3. `result = todd_pop_songs.____(c)____`\n",
    "\n",
    "We know that `todd_pop_songs` is a table, therefore we must use a table function to somehow get an array to assign to result. We haven't filtered uniquely by each Pop song that Todd played. Therefore, we use `.group(\"Song\", np.average)`, which groups by unqiue song and aggregates each numerical column with `np.average`. Then, we can get the specific aggregated column that we need, `\"Duration average\"`, using `.column(\"Duration average\")` (which returns an array).\n"
   ]
  },
  {
   "cell_type": "markdown",
   "id": "b29cd9d0",
   "metadata": {},
   "source": [
    "## 2.0 Functions\n",
    "\n",
    "### 2.1 Function Syntax\n",
    "```python\n",
    "def <function name>(<zero or more parameters>):\n",
    "    <body>\n",
    "    return <some value> # optional\n",
    "```\n",
    "\n",
    "- Parameter names are variable names for the future parameters/inputs.\n",
    "- Variables defined inside the function can only be accessed from within the function\n",
    "- Only functions have `return` statements, but they are not necessary. For example, let's say we want a function `make_hist` that takes in a table and a column which makes a histogram of the table based on the column.\n",
    "\n",
    "```python\n",
    "def make_hist(table, column):\n",
    "    table.hist(column)\n",
    "    # We did not return anything / We didn't have the need to return anything\n",
    "```\n",
    "\n",
    "**Q2.1.1** *(FA21 Final Q1)* Define a function `count_elem` that takes two arguments: an array `a` and a value `x`. It should return the number of times that `x` appears as an element of `a`. For example, `count_elem(make_array('cat', 'cat', 'dog'), 'cat')` should return 2.\n"
   ]
  },
  {
   "cell_type": "code",
   "execution_count": 32,
   "id": "4f7eb571",
   "metadata": {},
   "outputs": [
    {
     "data": {
      "text/plain": [
       "2"
      ]
     },
     "execution_count": 32,
     "metadata": {},
     "output_type": "execute_result"
    }
   ],
   "source": [
    "def count_elem(a, x):\n",
    "    return np.sum(a == x) # We use a == x to compare the values in the array a to x (shorthand to fit the solution into one line)\n",
    "\n",
    "count_elem(make_array('cat', 'cat', 'dog'), 'cat')"
   ]
  },
  {
   "cell_type": "markdown",
   "id": "3226edd8",
   "metadata": {},
   "source": [
    "## 3.0 Iteration & Conditionals\n",
    "\n",
    "### 3.1 Comparison Operators\n",
    "Self-explanatory table:\n",
    "| Comparison | Operator | returns `True` | returns `False` |\n",
    "| ---------- | -------- | -------------- | -------------- |\n",
    "| Less than | < | 2 < 3 | 2 < 2 |\n",
    "| Greater than | > | 3 > 2 | 3 > 3 |\n",
    "| Less than or equal to | <= | 2 <= 2 | 3 <= 2 |\n",
    "| Greater than or eqaul to | >= | 3 >= 3 | 2 >= 3 |\n",
    "| Equal | == | 3 == 3 | 3 == 2 |\n",
    "| Not equal | != | 3 != 2 | 2 != 2 |\n",
    "\n",
    "### 3.2 `for` Loops\n",
    "Syntax:\n",
    "```python\n",
    "for <any_name> in <some_array>:\n",
    "    <body>\n",
    "```\n",
    "\n",
    "For example, if we have an array `basket = make_array(\"orange\", \"kiwi\", \"apple\")` and we want to print every item in `basket` with an \"!\":"
   ]
  },
  {
   "cell_type": "code",
   "execution_count": 33,
   "id": "f823c4c2",
   "metadata": {},
   "outputs": [
    {
     "name": "stdout",
     "output_type": "stream",
     "text": [
      "orange!\n",
      "kiwi!\n",
      "apple!\n"
     ]
    }
   ],
   "source": [
    "basket = make_array(\"orange\", \"kiwi\", \"apple\")\n",
    "\n",
    "for fruit in basket:\n",
    "    print(fruit + \"!\")"
   ]
  },
  {
   "cell_type": "markdown",
   "id": "f5b4a12a",
   "metadata": {},
   "source": [
    "We want also use `np.arange()` to create a sort of makeshift array for the `for` loop to use. \n",
    "\n",
    "`np.arange()` has \"three syntaxes\", to put it simply:\n",
    "1. `np.arange(start, stop, step)`\n",
    "where\n",
    "- *start*: the number to start at (inclusive)\n",
    "- *stop*: the number to stop at (non-inclusive)\n",
    "- *step*: how many numbers to \"step\" over\n",
    "\n",
    "For example, `np.arange(1, 14, 2)` would give `[1, 3, 5, 7, 9, 11, 13]`.\n",
    "\n",
    "2. `np.arange(start, stop)`\n",
    "where\n",
    "- *start*: the number to start at (inclusive)\n",
    "- *stop*: the number to stop at (non-inclusive)\n",
    "- *step*: default `1`\n",
    "\n",
    "For example, `np.arange(2, 10)` would give `[2, 3, 4, 5, 6, 7, 8, 9]`.\n",
    "\n",
    "1. `np.arange(stop)`\n",
    "where\n",
    "- *start*: default `0`\n",
    "- *stop*: the number to stop at (non-inclusive)\n",
    "- *step*: default `1`\n",
    "\n",
    "For example, `np.arange(10)` would give `[0, 1, 2, 3, 4, 5, 6, 7, 8, 9]`.\n",
    "\n",
    "**Q3.2.1** Let's say we want to create 10 stats to add to the `cool_stats` array:"
   ]
  },
  {
   "cell_type": "code",
   "execution_count": 44,
   "id": "69841aa6",
   "metadata": {},
   "outputs": [
    {
     "data": {
      "text/plain": [
       "array([ 7.,  9.,  3.,  3.,  9.,  2.,  5.,  9.,  5.,  1.])"
      ]
     },
     "execution_count": 44,
     "metadata": {},
     "output_type": "execute_result"
    }
   ],
   "source": [
    "\"\"\"\n",
    "Makes a random choice from the array `np.arange(1, 11)`.\n",
    "\"\"\"\n",
    "def make_statistic() -> int:\n",
    "    return np.random.choice(make_array(1, 2, 3, 4, 5, 6, 7, 8, 9, 10))\n",
    "\n",
    "cool_stats = make_array()\n",
    "\n",
    "for i in np.arange(10): # np.arange(10) -> [0, 1, 2, 3, 4, 5, 6, 7, 8, 9] -> for loop runs 10 times\n",
    "    stat = make_statistic()\n",
    "    cool_stats = np.append(cool_stats, stat)\n",
    "\n",
    "cool_stats\n"
   ]
  },
  {
   "cell_type": "markdown",
   "id": "e22013a4",
   "metadata": {},
   "source": [
    "### 3.2 Conditionals \n",
    "Syntax:\n",
    "```python\n",
    "if <condition>:\n",
    "    <body>\n",
    "elif <condition>: # 0 or more elifs\n",
    "    <body>\n",
    "...\n",
    "else: # 0 or 1 else at the end\n",
    "    <body>\n",
    "```\n",
    "\n",
    "Truth Values\n",
    "| `True` | `False` |\n",
    "| ------ | ------- |\n",
    "| `True` | `False` |\n",
    "| Any `int` other than 0 | 0 |\n",
    "| Any `str` | Any false comparator (e.g. 4 == 2) |\n",
    "| Any `float` | \n",
    "| Any true comparator (e.g. 4 == 4) |"
   ]
  },
  {
   "cell_type": "markdown",
   "id": "3c15f6a0",
   "metadata": {},
   "source": [
    "## 4.0 Chance\n",
    "\n",
    "### 4.1 Probability Basics: Mulitplication, Addition, Complement\n",
    "Multiplication Rule: When two events must happen together\n",
    "- P(two events happen) = P(event one) * P(event two)\n",
    "- When you see **AND** -> think multiplication\n",
    "\n",
    "Addition Rule: The event can happen in multiple ways\n",
    "- P(an event happens) = P(first possibility) + P(second possibility)\n",
    "- When you see **OR** -> think addition\n",
    "\n",
    "Complement Rule: Probabiltiy of all outcomes - 1\n",
    "- P(every other event) = 1 - P(one event)\n",
    "- Most commonly seen when we want **at least one** of something\n",
    "- It's easier to calculate P(one event) than P(every other event)\n",
    "\n",
    "### 4.2 With or Without Replacement\n",
    "With Replacement: Each time we pick something, we put it back\n",
    "\n",
    "Without Replacement: Each time we pick something, we do not put it back in / we take it out\n",
    "\n",
    "**Q.4.1.1** Each pet photo at the end of a lab is chosen from a collection of 20 pets with 10 cats, 9 dogs, and 1 bird. For each event below, choose the Python expression that evaluates to the probability of the event.\n",
    "**a)** When one pet is chosen at random, the probability that it is either a cat or a bird.\n",
    "- (9 / 20 ) ** 2\n",
    "- (10 / 20) * (1 / 20)\n",
    "- **(10 / 20) + (1 / 20)**\n",
    "- 1 - (9 / 20) ** 2\n",
    "- 1 - (10 / 20) * (1 / 20)\n",
    "- 1 - ((10 / 20) + (1 / 20))\n",
    "\n",
    "(10 / 20) + (1 / 20) is the correct answer because P(cat) = (10 / 20) and P(bird) = (1 / 20). We notice that we are getting P(cat) *OR* P(bird) -> (10 / 20) + (1 / 20).\n",
    "\n",
    "**b)** When two pets are chosen at random with replacement, the probability that the first chases the second. Assume dogs only chase cats, cats only chase birds, and birds don't chase.\n",
    "- (19 / 20) * (10 / 20)\n",
    "- **(10 / 20) * (1 / 20) + (9 / 20) * (10 / 20)**\n",
    "- 1 - ((9 / 20) * (1 / 20) + (10 / 20) * (9 / 20))\n",
    "- 1 - ((10 / 20) ** 2 + (9 / 20) ** 2 + (1 / 20) ** 2)\n",
    "- 1 - ((10 / 20) ** 2 + (9 / 20) ** 2 + (1 / 20))\n",
    "\n",
    "(10 / 20) * (1 / 20) + (9 / 20) * (10 / 20) is the correct answer because \n",
    "```math\n",
    "\\begin{align}\n",
    "P(\\text{first chases the second}) &= P((\\text{cat AND bird}) OR (\\text{dog AND cat})) \\\\\n",
    "&= P(\\text{cat AND bird}) + P(\\text{dog AND cat}) \\\\ \n",
    "&= P(\\text{cat}) * P(\\text{bird}) + P(\\text{dog}) * P(\\text{cat}) \\\\\n",
    "&= \\frac{10}{20} + \\frac{1}{20} + \\frac{9}{20} + \\frac{10}{20}\n",
    "\\end{align}\n",
    "```"
   ]
  },
  {
   "cell_type": "code",
   "execution_count": null,
   "id": "6eccad94",
   "metadata": {},
   "outputs": [],
   "source": []
  },
  {
   "cell_type": "markdown",
   "id": "b7a2c8ce",
   "metadata": {},
   "source": [
    "## 5.0 Sampling\n",
    "\n",
    "### 5.1 Population vs. Samples\n",
    "A population describes all invidivuals that belong to a certain group, while a sample is a random selection of the population.\n",
    "\n",
    "### 5.2 Probability vs. Empiricial Distribution\n",
    "Probability: the theoretical distribution of a random event\n",
    "<br />\n",
    "<img src=\"./images/probability.png\" width=\"full\" height=\"500\" />\n",
    "<br />\n",
    "\n",
    "Empirical: the observed distribution of a random event\n",
    "<br />\n",
    "<img src=\"./images/empirical.png\" width=\"full\" height=\"500\" />\n",
    "<br />\n",
    "\n",
    "So, if a chance experiment is repeated independently and under identical conditions, then in the long run, the proportion of times that an event occurs gets closer and closer to the theoretical probability of the event. For example, as seen in the images below, as sample size increases, the empirical histogram resembles more and more the probability histogram.\n",
    "<br />\n",
    "<img src=\"./images/probability_to_empirical.png\" width=\"full\" height=\"500\" />\n",
    "<br />\n",
    "\n",
    "### 5.3 Functions to Sample\n",
    "There are three functions that allow us to \"sample\" from a \"population\":\n",
    "1. `tbl.sample(n, with_replacement)`\n",
    "- Returns a table with `n` rows sampled from the original table `tbl`\n",
    "- If `n` and `with_replacement` are not specified, then `n = the number of rows in the table` and `with_replacement = True`.\n",
    "\n",
    "2. `np.random.choice(array, n, replace)`\n",
    "- Returns an array with `n` values valies sampled from the original array `arr`\n",
    "- If `n` and `replace` are not specified, then `n = 1` (a single value returned) and `replace = True`.\n",
    "\n",
    "3. `sample_proportions(n, model_proportions)`\n",
    "- Samples `n` objects from the categorical distribution specified by an array `model_proportions`.\n",
    "- Returns an array of `proportions`.\n",
    "\n",
    "**Q5.3.1** *(FA22 Final Q3)* There are 6,000 pieces of trash in the park (3,000 bottles, 2,000 boxes, 1,000 pieces of food). Adrian collects 20 pieces at random and observes that `A` of them are bottles. Bala collects 100 pieces at random and observes that `B` of them are bottles.\n",
    "**i)** Which of the following are more probably than not? Choose all that apply?\n",
    "- A is larger than B\n",
    "- **B is larger than A**\n",
    "- (A / 20) is larger than (B / 100)\n",
    "- (B / 100) is larger than (A / 20)\n",
    "- **abs(A / 20 - 0.5) is larger than abs(B / 100 - 0.5)**\n",
    "- abs(B / 100 - 0.5) is larger than abs(A / 20 - 0.5)\n",
    "- None of the above\n",
    "\n",
    "1. **A is larger than B** ❌ *Not necessarily true*  \n",
    "   - `A` and `B` are both random variables, but `B` is sampled from a larger set (100 pieces vs. 20 pieces).\n",
    "   - Expected values:  \n",
    "     - `E[A] = 20 * 0.5 = 10`\n",
    "     - `E[B] = 100 * 0.5 = 50`\n",
    "   - Since `B` is expected to be larger than `A`, it is **unlikely** that `A > B`.\n",
    "\n",
    "2. **B is larger than A** ✅ *More probable than not*  \n",
    "   - As shown above, `E[B] > E[A]`, meaning `B > A` is the more probable outcome.\n",
    "\n",
    "3. **(A / 20) is larger than (B / 100)** ❌ *Not necessarily true*  \n",
    "   - `A / 20` and `B / 100` are both estimates of the proportion of bottles.\n",
    "   - Since both are sampled from the same distribution (`50%` bottles), neither fraction is systematically expected to be larger than the other.\n",
    "\n",
    "4. **(B / 100) is larger than (A / 20)** ❌ *Not necessarily true*  \n",
    "   - For the same reasoning as above, neither fraction is more likely to be larger.\n",
    "\n",
    "5. **abs(A / 20 - 0.5) is larger than abs(B / 100 - 0.5)** ✅ *More probable than not*  \n",
    "   - `A / 20` and `B / 100` both estimate the true probability (`0.5`).\n",
    "   - However, since `B` is based on a larger sample size (`100` vs. `20`), `B / 100` will have **less variance**.\n",
    "   - **Larger sample sizes lead to more stable estimates**, so `A / 20` fluctuates more around `0.5`, making `abs(A/20 - 0.5)` more likely to be larger.\n",
    "\n",
    "6. **abs(B / 100 - 0.5) is larger than abs(A / 20 - 0.5)** ❌ *Unlikely*  \n",
    "   - Since `B / 100` has less variance due to the larger sample size, it is less likely to deviate from `0.5` compared to `A / 20`.\n",
    "\n",
    "7. **None of the above** ❌ *Incorrect*  \n",
    "   - Since `(B > A)` and `(abs(A / 20 - 0.5) > abs(B / 100 - 0.5))` are both more probable than not, this choice is incorrect.\n",
    "\n",
    "**ii)** The pygmy hippo is a small, reclusive (and cute) hippopotamid type that is native to the forests and swamps of West Africa. Two teams of zoologists set out to estimate the proportion that are male by sampling at random from the population. The first team samples 100 hippos and finds the proportion of males in their sample to be `A`. The second team samples 40 hippos and finds the proportion of males in their sample to be `B`. The full population has all 2,500 wild pygmy hippos; the proportion `P` of males in the population is 50% (but unknown to the zoologists).\n",
    "\n",
    "Which of the following are more likely than not? Select **all** that apply.\n",
    "- A is smaller than B.\n",
    "- A is larger than B.\n",
    "- **P is closer to A than B.**\n",
    "- P is closer to B than A.\n",
    "- None of these.\n",
    "\n",
    "1. **A is smaller than B ❌ (Not necessarily true)**  \n",
    "   - `A` and `B` are both sample proportions taken randomly from the population.\n",
    "   - There is no inherent reason why `A` would be systematically smaller than `B`.\n",
    "\n",
    "2. **A is larger than B ❌ (Not necessarily true)**  \n",
    "   - Just like the previous option, `A` and `B` are both estimates of `P`, so there is no guarantee that one is consistently larger than the other.\n",
    "\n",
    "3. **P is closer to A than B ✅ (More likely than not)**  \n",
    "   - The sample size of `A` is **100**, while the sample size of `B` is **40**.\n",
    "   - Larger sample sizes tend to produce **estimates closer to the true proportion `P`** due to reduced variance.\n",
    "   - Since `A` is based on a larger sample, it is expected to be a **more accurate** estimate of `P` than `B`, meaning `P` is more likely to be closer to `A`.\n",
    "\n",
    "4. **P is closer to B than A ❌ (Unlikely)**  \n",
    "   - Since `B` is based on a smaller sample size (**40** vs. **100**), it has **higher variance**, meaning it is more likely to deviate from `P` compared to `A`.\n",
    "\n",
    "5. **None of these ❌ (Incorrect)**  \n",
    "   - Since **P is more likely to be closer to A than B**, at least one option is correct, so this cannot be the correct answer.\n",
    "\n",
    "\n"
   ]
  },
  {
   "cell_type": "markdown",
   "id": "a5a2fccb",
   "metadata": {},
   "source": [
    "## 6.0 Hypothesis Testing\n",
    "\n",
    "### 6.1 Structure of Hypothesis Test\n",
    "- Motivation: We observe some event. We think this event isn't likely to happen with how we think the world works.\n",
    "\n",
    "- Step 1: Determine Hypothesis\n",
    "- Step 2: Test Statistic & Observed Test Statistic\n",
    "- Step 3: Distribution of Test Statistic under Null Hypothesis\n",
    "- Step 4: Conclusion of Test\n",
    "\n",
    "For example, let's take the scenario where Rory claims that her coin has a 60% chance of landing on heads and a 40% chance of landing on tails. Marissa flips it 10 times and gets 9 heads; hm... maybe the coin isn't 60/40? We set up the hypothesis test by stating the null and alternative hypotheses.\n",
    "\n",
    "1. Step 1: Hypothesis\n",
    "Null Hypothesis: We simulate under this model. We are told exact probabilities, and thus test our hypotheses using those given probabilities. Generally alludes to the idea that *suspicious observations are only due to random chance*. \n",
    "- In this example: \"The coin being flipped has the following distribution: 60% heads, and 40% tails. Any difference from this is due to random chance.\"\n",
    "\n",
    "Alternative Hypothesis: Provides a potential \"explanation\" for the observed results or other beliefs, contrary to the null hypothesis. We don't need to provide exact probabilities.\n",
    "- In this example: \"The coin being flipped doesn't have the stated distribution (i.e. the coin doesn't have a 60% chance of landing on heads).\"\n",
    "\n",
    "How do we test these hypotheses? We simulate trails.\n",
    "- A trial recreates the event that you observed\n",
    "- We then run many, many trials (using the null hypothesis' given probabilities) to understand waht is expected if the null hypothesis was true.\n",
    "    - In this example: Example Trial = Marissa flipped a supposedly 60/40 coin 10 times, and she landed with 9 heads in total. Thus, each trail thereafter will be flipping a 60/40 coin 10 times.\n",
    "\n",
    "2. Step 2: Test Statistic\n",
    "- Intution: We need to way to describe/summarize the result of a trial.\n",
    "    - Either low or high values should favor the alternative because \"extreme\" values are unlikely to happen (should not be both high and low)\n",
    "    - Many test statistics require use to compare a value that is expected under the null hypothesis to a simulated value.\n",
    "\n",
    "- Common Test Statistics:\n",
    "    - *Count* -> ex) # of heads\n",
    "    - *Difference* between expected & observed -> ex) # of heads - expected # of heads\n",
    "    - *Absolute difference* between expected & observed -> ex) abs(# of heads - expected # of heads)\n",
    "    - *Total Variation Distance (TVD)*: comparing the observed distribution of heads and tails to the expected distribution of heads and tails -> ex) (0.6, 0.4)\n",
    "\n",
    "- Choosing a test statistic\n",
    "    - Recall our hypotheses:\n",
    "        - Null Hypothesis: The coin being flipped has the following distribution: 60% heads, 40% tails. Any difference from this is due to random chance.\n",
    "        - Alternative Hypothesis: The coin being flipped doesn't have the stated distribution (i.e. the coind doesn't have a 60% chance of landing heads).\n",
    "    - From our alternative, we know that we are trying to determine if the probability of landing on heads is **different** from a 60%. So either high or low values should favor the alternative.\n",
    "\n",
    "| Test Statistic | Range of Values | Appropriate? |\n",
    "| -------------- | --------------- | ------------ |\n",
    "| count (# of heads) | 0...4...10 | No |\n",
    "| difference (# of heads - expected # of heads) | -6...0...4 | No |\n",
    "| absolute difference (abs(# of heads - expected # of heads)) | 0...6 | Yes |\n",
    "| TVD of observed distribution and [0.6, 0.4] distribution | 0...| Yes |\n",
    "\n",
    "**Why?** The count and difference have both the high and low values that support the alternative. The absolute difference and TVD have only high values that support the alternative.\n",
    "\n",
    "Now that we've decided on our test statistic, let's create a function `calculate_statistic` to simulate flipping a 60/40 coin 10 times and calculating our test statsitic on this simulated value:\n",
    "```python\n",
    "def calculate_statistic():\n",
    "    \"\"\"Computes 1 trail and returns test statistic\"\"\"\n",
    "    coin_probs = make_array(0.6, 0.4)\n",
    "    one_simulation = sample_proportions(10, coin_probs)\n",
    "    return np.abs(one_sim.item(0) * 10 - 6)\n",
    "```\n",
    "\n",
    "3. Distribution of Test Statistic under Null Hypothesis\n",
    "- We want first answer the question, “if the null hypothesis is true, what test statistics will we generally see?”\n",
    "- How do we do this? *Simulation*\n",
    "\n",
    "```python\n",
    "def simulate(num_simulations):\n",
    "\ttest_stats = make_array()\n",
    "\tfor i in np.arange(num_simulations):\n",
    "\t\tone_test_stat = calculate_statistic()\n",
    "\t\ttest_stats = np.append(test_stats, one_test_stat)\n",
    "\treturn test_stats\n",
    "\n",
    "simulate(1000) # >> Array([1, 2, 0, 3, 2, 1, 0, 0, 2, 2, 0…]) (1000 elements)\n",
    "```\n",
    "\n",
    "4. Conclusion of Test\n",
    "- Is our simulated data more consistent with the null or alternative hypothesis?\n",
    "- p-value: the chance that a test statistic is equal to the observed test statistic or more extreme (in the direction of the alternative hypothesis) assuming that the null is true\n",
    "    - It can be calculated by: (# of times test stat is equal to/more extreme) / (total # of events)\n",
    "- To calculate the p-value: \n",
    "```python\n",
    "test_stats = simulate(1000) # Array([1, 2, 0, 3, 2, 1, 0,...])\n",
    "observed_ts = abs(9-6) # 3\n",
    "\n",
    "p_val = np.count_nonzero(test_stats >= observed_ts) / len(test_stats)\n",
    "p_val # >> >> 0.102\n",
    "```\n",
    "\n",
    "So far, we have:\n",
    "- We were told a probability distribution of the event: the coin is 60/40\n",
    "- Observed a trial: Marissa flipped a coin 10 times and got 9 heads\n",
    "- Created a null hypothesis & alternative hypothesis\n",
    "- Created a test statistic: abs(# heads - expected # of heads)\n",
    "- Simulated many trials under the given probabilities of the null distribution\n",
    "- Calculated a p-value by comparing our simulated test statistics vs. our observed test statistic\n",
    "\n",
    "<br />\n",
    "<img src=\"./images/p-value.png\" width=\"full\" height=\"500\" />\n",
    "<br />\n",
    "\n",
    "So how do we know what is rare/low?\n",
    "- P-value cutoff: \n",
    "    - This is the cutoff for the value of a “low”/rare p-value to determine if our statistic is significant\n",
    "    - Typically 0.05 or 0.01, but could vary. (Most of the time given in the question.)\n",
    "\n",
    "1. If p-value < p-value cutoff:\n",
    "- Seeing what you observed is unlikely under the null\n",
    "- SO the data is more consistent with alternative\n",
    "- THEREFORE we reject the null in favor of the alternative\n",
    "\n",
    "2. If p-value > p-value cutoff:\n",
    "- Seeing what you observed is not unlikely under the null\n",
    "- SO the data is more consistent with null\n",
    "- THEREFORE we fail to reject the null hypothesis\n",
    "\n",
    "In our example, because our p-value is 0.102 and we determined a cutoff of 5% p-value cutoff, we fail to reject the null hypothesis because 0.102 is greater than 0.05. \n",
    "\n",
    "### 6.2 Test Statistics Guide\n",
    "\n",
    "| Test Statistic                | Definition | When to Use |\n",
    "|--------------------------------|------------|-------------|\n",
    "| **Absolute Difference** (`|A - B|`) | The absolute difference between two sample statistics. | When comparing two proportions or means and assessing if one group has a significantly different value from the other. Best when data is symmetrically distributed. |\n",
    "| **Total Variation Distance (TVD)** | `0.5 * Σ abs(P(x) - Q(x))` for all categories `x`. Measures the largest possible difference between two distributions. | When comparing entire probability distributions, especially for categorical data with multiple categories. Useful in hypothesis testing for goodness-of-fit. |\n",
    "| **Chi-Square Statistic** (`Σ (O - E)^2 / E`) | Compares observed (`O`) and expected (`E`) frequencies in categorical data. | When checking for independence between two categorical variables or whether an observed distribution fits an expected one. |\n",
    "| **t-Statistic** (`(X̄ - μ) / (s / √n)`) | Measures how far the sample mean (`X̄`) is from the population mean (`μ`), standardized by the sample standard deviation (`s`). | When testing differences in means for normally distributed data, such as in **t-tests** for small sample sizes (n < 30). |\n",
    "| **z-Statistic** (`(X̄ - μ) / (σ / √n)`) | Similar to the t-statistic but used when population standard deviation (`σ`) is known. | When testing means with **large samples** (n ≥ 30) or when the population standard deviation is known. |\n",
    "| **Kolmogorov-Smirnov (KS) Statistic** | The maximum difference between two cumulative distribution functions (CDFs). | When comparing two entire distributions, especially when data is not normally distributed. Useful for empirical vs. theoretical distributions. |\n",
    "| **Permutation Test Statistic** | Computes a test statistic (e.g., difference in means) repeatedly under shuffled labels to estimate a p-value. | When running non-parametric hypothesis tests, particularly in randomized experiments where normality assumptions do not hold. |\n",
    "| **Rank-Sum Statistic (Mann-Whitney U)** | Based on the ranks of data rather than raw values, it assesses whether one sample tends to have larger values than another. | When comparing two independent samples that are **not normally distributed** (non-parametric alternative to t-tests). |\n",
    "\n",
    "**Choosing the Right Test Statistic**\n",
    "- **Comparing Two Groups?**\n",
    "  - Difference in proportions → **Absolute Difference** or **TVD**\n",
    "  - Difference in means → **t-Statistic** (small sample) or **z-Statistic** (large sample)\n",
    "  - Difference in distributions → **KS Statistic** or **Permutation Test**\n",
    "- **Categorical Data?**\n",
    "  - Frequency comparison → **Chi-Square**\n",
    "  - Probability distribution comparison → **TVD**\n",
    "- **Data is not normally distributed?**\n",
    "  - Non-parametric alternatives → **Mann-Whitney U**, **Permutation Test**\n",
    "\n",
    "### 6.3 A/B Testing: Setup and Example\n",
    "A/B testing is a statistical method used to compare two versions of a variable (such as a webpage, product, or marketing campaign) to determine which performs better. It is widely used in business, marketing, UX design, and data science to optimize decisions based on empirical evidence.\n",
    "\n",
    "**How to Set Up an A/B Test**\n",
    "1. **Define the Goal**: Determine what metric you want to improve (e.g., click-through rate, conversion rate, engagement time).\n",
    "2. **Create Variants**:\n",
    "   - **Control Group (A)**: The existing version (also called the \"baseline\").\n",
    "   - **Treatment Group (B)**: The new version with changes (e.g., different UI, new call-to-action).\n",
    "3. **Randomly Assign Users**: Ensure users are randomly split into two groups to minimize bias.\n",
    "4. **Run the Experiment**: Show each group their respective versions and collect data.\n",
    "5. **Measure Key Metrics**: Compare the performance of A vs. B based on the chosen metric.\n",
    "6. **Statistical Analysis**: Use hypothesis testing (e.g., t-test, chi-square test) to determine if the difference is statistically significant.\n",
    "7. **Make a Decision**: If version B significantly outperforms A, implement the change; otherwise, keep the existing version.\n",
    "\n",
    "**Example: A/B Test for Website Conversion Rate**\n",
    "**Scenario**\n",
    "A company wants to increase the number of users who sign up for their newsletter. They decide to test two different versions of their sign-up button:\n",
    "\n",
    "- **Version A (Control)**: The button says \"Sign Up.\"\n",
    "- **Version B (Treatment)**: The button says \"Get Your Free Gift!\"\n",
    "\n",
    "**Experiment Setup**\n",
    "- **Metric**: Conversion rate (percentage of visitors who sign up).\n",
    "- **Sample Size**: 10,000 users randomly split into two groups.\n",
    "  - 5,000 see Version A.\n",
    "  - 5,000 see Version B.\n",
    "- **Data Collected**:\n",
    "  - Version A: 200 users sign up (4% conversion rate).\n",
    "  - Version B: 300 users sign up (6% conversion rate).\n",
    "\n",
    "**Analysis**\n",
    "- **Absolute Difference**: `|6% - 4%| = 2%`\n",
    "- **Hypothesis Testing**:\n",
    "  - **Null Hypothesis (H₀)**: There is no difference between A and B.\n",
    "  - **Alternative Hypothesis (H₁)**: B has a higher conversion rate than A.\n",
    "  - **Statistical Test**: A **z-test** for proportions is performed.\n",
    "  - **p-value**: If `p < 0.05`, we reject H₀ and conclude B is significantly better.\n",
    "\n",
    "**Conclusion**\n",
    "- If the p-value is **small (e.g., 0.01)** → We reject H₀ and choose Version B.\n",
    "- If the p-value is **large (e.g., 0.2)** → We do not have enough evidence to prefer B over A."
   ]
  },
  {
   "cell_type": "markdown",
   "id": "51ce6e2a",
   "metadata": {},
   "source": [
    "## 7.0 Data Visualization\n",
    "\n",
    "### 7.1 Scatter Plots\n",
    "- Relationship between **two numerical variables**.\n",
    "- Each point represents an observation with values for both variables.\n",
    "\n",
    "When to Use:\n",
    "- To determine if two variables are **correlated**.\n",
    "- To identify **trends** or **clusters** in data.\n",
    "- Example: **Does study time affect exam scores?**\n",
    "  - x-axis: Hours studied\n",
    "  - y-axis: Exam score\n",
    "\n",
    "### 7.2 Line Plots\n",
    "- A continuous trend over time or an ordered sequence.\n",
    "\n",
    "When to Use:\n",
    "- When analyzing **time series data** or trends over an ordered variable.\n",
    "- Example: **Stock market trends over time**\n",
    "  - x-axis: Time (days, months, years)\n",
    "  - y-axis: Stock price\n",
    "\n",
    "### 7.3 Bar Charts\n",
    "- Comparisons between **categories**.\n",
    "- Bars represent counts, percentages, or other aggregate measures.\n",
    "\n",
    "When to Use:\n",
    "- When dealing with **categorical variables**.\n",
    "- To compare **frequencies or proportions** of different groups.\n",
    "- Example: **Favorite ice cream flavors among students**\n",
    "  - x-axis: Ice cream flavors (Chocolate, Vanilla, Strawberry)\n",
    "  - y-axis: Number of students who prefer each flavor\n",
    "\n",
    "\n",
    "### 7.4 Histograms\n",
    "- **Distribution of a single numerical variable**.\n",
    "- Groups values into **bins** and shows how many data points fall into each bin.\n",
    "  \n",
    "**Key Components**\n",
    "- **x-axis**: The numerical variable being measured.\n",
    "  - Example: Monthly rent (in dollars).\n",
    "- **y-axis**: Density, measured in **% per unit of x-axis**.\n",
    "  - Example: % of apartments per $100 rent interval.\n",
    "- **Area of a bin**: Represents the **percentage of data points in that bin**.\n",
    "  - width * height = % of data points in that bin.\n",
    "\n",
    "**Histogram Caveats**\n",
    "1. **Area represents percentage, NOT number of individuals**\n",
    "   - Unlike bar charts where height represents counts, in histograms, area matters.\n",
    "2. **Bins are inclusive of the lower bound, exclusive of the upper bound**\n",
    "   - Example: Bin **[10, 15)** includes **10, 11, 12, 13, 14** but **NOT 15**.\n",
    "   - **Exception**: The last bin includes both bounds.\n",
    "3. **We don't know the distribution inside a bin**\n",
    "   - Example: If a bin is **[10, 15)**, all values could be clustered at 10, spread evenly, or mostly near 14.999.\n",
    "4. **Bin widths do not have to be the same**\n",
    "   - If bin widths vary, the heights adjust to maintain correct density.\n",
    "\n",
    "**When to Use Histograms**\n",
    "- **When analyzing distributions** of numerical data.\n",
    "- **To detect skewness**, **outliers**, or **modal behavior**.\n",
    "- Example: **What is the distribution of rental prices in a city?**\n",
    "  - x-axis: Rent ($)\n",
    "  - y-axis: Density (% per $100)\n",
    "\n",
    "Examples:\n",
    "\n",
    "<br />\n",
    "<img src=\"./images/hist_questions.png\" width=\"full\" height=\"500\" />\n",
    "<br />\n",
    "\n",
    "<br />\n",
    "<img src=\"./images/hist_q_1.png\" width=\"full\" height=\"500\" />\n",
    "<br />\n",
    "\n",
    "<br />\n",
    "<img src=\"./images/hist_q_2.png\" width=\"full\" height=\"500\" />\n",
    "<br />\n",
    "\n",
    "<br />\n",
    "<img src=\"./images/hist_q_3.png\" width=\"full\" height=\"500\" />\n",
    "<br />\n",
    "\n",
    "---\n",
    "\n",
    "### **Summary**\n",
    "| Visualization Type | Used For | Example |\n",
    "|-------------------|---------|---------|\n",
    "| **Scatter Plot** | Relationship between **two numerical variables** | Study time vs. Exam score |\n",
    "| **Line Plot** | Trends in **time-series data** | Stock prices over time |\n",
    "| **Bar Chart** | Comparisons of **categorical variables** | Favorite ice cream flavors |\n",
    "| **Histogram** | **Distribution of one numerical variable** | Rent prices in a city |\n"
   ]
  }
 ],
 "metadata": {
  "kernelspec": {
   "display_name": "Python 3 (ipykernel)",
   "language": "python",
   "name": "python3"
  },
  "language_info": {
   "codemirror_mode": {
    "name": "ipython",
    "version": 3
   },
   "file_extension": ".py",
   "mimetype": "text/x-python",
   "name": "python",
   "nbconvert_exporter": "python",
   "pygments_lexer": "ipython3",
   "version": "3.13.2"
  }
 },
 "nbformat": 4,
 "nbformat_minor": 5
}
